{
  "nbformat": 4,
  "nbformat_minor": 0,
  "metadata": {
    "colab": {
      "provenance": [],
      "toc_visible": true,
      "authorship_tag": "ABX9TyP50ggv/y6D1/hKox1Fmp1U",
      "include_colab_link": true
    },
    "kernelspec": {
      "name": "python3",
      "display_name": "Python 3"
    },
    "language_info": {
      "name": "python"
    }
  },
  "cells": [
    {
      "cell_type": "markdown",
      "metadata": {
        "id": "view-in-github",
        "colab_type": "text"
      },
      "source": [
        "<a href=\"https://colab.research.google.com/github/Royalrival/Antariksh/blob/main/lec4.ipynb\" target=\"_parent\"><img src=\"https://colab.research.google.com/assets/colab-badge.svg\" alt=\"Open In Colab\"/></a>"
      ]
    },
    {
      "cell_type": "code",
      "source": [],
      "metadata": {
        "id": "2GHF7zkzfm2V"
      },
      "execution_count": 1,
      "outputs": []
    },
    {
      "cell_type": "code",
      "execution_count": 2,
      "metadata": {
        "id": "hTIGyA3bTMzG"
      },
      "outputs": [],
      "source": [
        "# PANDAS"
      ]
    },
    {
      "cell_type": "code",
      "source": [
        "import numpy as np\n",
        "import pandas as pd"
      ],
      "metadata": {
        "id": "uRzbrYCpTYgM"
      },
      "execution_count": 3,
      "outputs": []
    },
    {
      "cell_type": "code",
      "source": [
        "# Numpy datatypes\n",
        "\n",
        "# i-integer\n",
        "# b-boolean\n",
        "# u-unsigned integer\n",
        "# f-float\n",
        "# c-complex float\n",
        "# m-timedelta\n",
        "# M-datetime\n",
        "# O-Object\n",
        "# S-String\n",
        "# U-Unicode string\n",
        "# V-fix chunk or memory"
      ],
      "metadata": {
        "id": "PhmbERYsfr_9"
      },
      "execution_count": 4,
      "outputs": []
    },
    {
      "cell_type": "markdown",
      "source": [
        "# NUMPY"
      ],
      "metadata": {
        "id": "E8ZvvgAafs6v"
      }
    },
    {
      "cell_type": "code",
      "source": [
        "arr = np.array([1, 2, 3, 4, 5])\n",
        "\n",
        "print(arr)\n",
        "type(arr)\n",
        "#Array object ndarray used"
      ],
      "metadata": {
        "colab": {
          "base_uri": "https://localhost:8080/"
        },
        "id": "JpqlqaBhTs4A",
        "outputId": "587868a3-47ba-4c56-ecd2-96c5672c8ed1"
      },
      "execution_count": 5,
      "outputs": [
        {
          "output_type": "stream",
          "name": "stdout",
          "text": [
            "[1 2 3 4 5]\n"
          ]
        },
        {
          "output_type": "execute_result",
          "data": {
            "text/plain": [
              "numpy.ndarray"
            ]
          },
          "metadata": {},
          "execution_count": 5
        }
      ]
    },
    {
      "cell_type": "code",
      "source": [
        "arr1=np.array([[1,2,3,4],[5,6,7,8],[9,10,11,12]])\n",
        "print(arr1.ndim)\n",
        "arr2=np.array([[[1,2,4],[3,4,5],[7,2,5]]])\n",
        "print(arr2.ndim)"
      ],
      "metadata": {
        "colab": {
          "base_uri": "https://localhost:8080/"
        },
        "id": "NtrnxMSVUKSW",
        "outputId": "db2a29e7-0053-421f-e0ef-2b16f7bc3b6d"
      },
      "execution_count": 6,
      "outputs": [
        {
          "output_type": "stream",
          "name": "stdout",
          "text": [
            "2\n",
            "3\n"
          ]
        }
      ]
    },
    {
      "cell_type": "code",
      "source": [
        "arr3=np.array([1,867,368], dtype='f4')\n",
        "arr3"
      ],
      "metadata": {
        "colab": {
          "base_uri": "https://localhost:8080/"
        },
        "id": "VyUz26JWVOW2",
        "outputId": "b25e7034-cecc-42f3-9ae9-51fc0c52270f"
      },
      "execution_count": 7,
      "outputs": [
        {
          "output_type": "execute_result",
          "data": {
            "text/plain": [
              "array([  1., 867., 368.], dtype=float32)"
            ]
          },
          "metadata": {},
          "execution_count": 7
        }
      ]
    },
    {
      "cell_type": "code",
      "source": [
        "print(arr2[0,1,2])\n",
        "print(arr2[0,2,::1])"
      ],
      "metadata": {
        "colab": {
          "base_uri": "https://localhost:8080/"
        },
        "id": "CF9eLbvEWL_T",
        "outputId": "cba26b9b-7ca2-4497-c26a-9956c3e3500c"
      },
      "execution_count": 8,
      "outputs": [
        {
          "output_type": "stream",
          "name": "stdout",
          "text": [
            "5\n",
            "[7 2 5]\n"
          ]
        }
      ]
    },
    {
      "cell_type": "code",
      "source": [
        "arr=np.array([2,8,9,3], dtype='f4')\n",
        "print(arr)\n",
        "newar=arr.astype(dtype='int64')\n",
        "newar\n"
      ],
      "metadata": {
        "colab": {
          "base_uri": "https://localhost:8080/"
        },
        "id": "W9pcu_Hua19y",
        "outputId": "ee18a4d5-8bc5-439c-d4c7-f8c41c94ffce"
      },
      "execution_count": 9,
      "outputs": [
        {
          "output_type": "stream",
          "name": "stdout",
          "text": [
            "[2. 8. 9. 3.]\n"
          ]
        },
        {
          "output_type": "execute_result",
          "data": {
            "text/plain": [
              "array([2, 8, 9, 3])"
            ]
          },
          "metadata": {},
          "execution_count": 9
        }
      ]
    },
    {
      "cell_type": "code",
      "source": [
        "newar=arr.copy()\n",
        "arr[0]=5\n",
        "print(arr)\n",
        "print(newar)\n",
        "#COPY AND VIEW- In copy the value if modified doesnt reflect in the copied array but in view it gets reflected on it\n"
      ],
      "metadata": {
        "colab": {
          "base_uri": "https://localhost:8080/"
        },
        "id": "pEr-YDkYcOs0",
        "outputId": "d93d010c-1d51-4a1c-aa81-7cbdbe8cb3a2"
      },
      "execution_count": 10,
      "outputs": [
        {
          "output_type": "stream",
          "name": "stdout",
          "text": [
            "[5. 8. 9. 3.]\n",
            "[2. 8. 9. 3.]\n"
          ]
        }
      ]
    },
    {
      "cell_type": "code",
      "source": [
        "arr=np.array([65,87,99,12])\n",
        "newar=arr.view()\n",
        "arr[0]=5\n",
        "print(arr)\n",
        "print(newar)"
      ],
      "metadata": {
        "colab": {
          "base_uri": "https://localhost:8080/"
        },
        "id": "if_i-tUNgRa9",
        "outputId": "84d3d53b-f446-4226-9a5b-e28bb5b2be57"
      },
      "execution_count": 11,
      "outputs": [
        {
          "output_type": "stream",
          "name": "stdout",
          "text": [
            "[ 5 87 99 12]\n",
            "[ 5 87 99 12]\n"
          ]
        }
      ]
    },
    {
      "cell_type": "code",
      "source": [
        "arr1=np.array([7,8,9])\n",
        "arr2=np.array([1,2,3])\n",
        "arr=np.stack((arr1,arr2),axis=1)\n",
        "arr\n",
        "#Stack arranges it in a vertical orientation of each element, followed by the next array element at that position"
      ],
      "metadata": {
        "colab": {
          "base_uri": "https://localhost:8080/"
        },
        "id": "g11yoAL5Xv3x",
        "outputId": "6f5d837c-dfad-473e-cd53-80d9f131760b"
      },
      "execution_count": 12,
      "outputs": [
        {
          "output_type": "execute_result",
          "data": {
            "text/plain": [
              "array([[7, 1],\n",
              "       [8, 2],\n",
              "       [9, 3]])"
            ]
          },
          "metadata": {},
          "execution_count": 12
        }
      ]
    },
    {
      "cell_type": "code",
      "source": [
        "arr1=np.array([[4,5,6],[1,2,3]])\n",
        "arr2=np.array([[10,11,12],[7,8,9]])\n",
        "arr=np.hstack((arr1,arr2))\n",
        "arr\n",
        "#hpstack arranges it in horizontal orientation where first array elements get concatenated with the other array elements"
      ],
      "metadata": {
        "colab": {
          "base_uri": "https://localhost:8080/"
        },
        "id": "BZEAHgujYh-y",
        "outputId": "afa13f93-83d8-4fc2-b5e6-ac0178e4d0ea"
      },
      "execution_count": 13,
      "outputs": [
        {
          "output_type": "execute_result",
          "data": {
            "text/plain": [
              "array([[ 4,  5,  6, 10, 11, 12],\n",
              "       [ 1,  2,  3,  7,  8,  9]])"
            ]
          },
          "metadata": {},
          "execution_count": 13
        }
      ]
    },
    {
      "cell_type": "code",
      "source": [
        "zeroarr=np.zeros((4,2), dtype='i4')\n",
        "zeroarr"
      ],
      "metadata": {
        "colab": {
          "base_uri": "https://localhost:8080/"
        },
        "id": "_hkcHoLsZcZA",
        "outputId": "40e8c390-9f9f-407c-a229-dcffa72f073a"
      },
      "execution_count": 14,
      "outputs": [
        {
          "output_type": "execute_result",
          "data": {
            "text/plain": [
              "array([[0, 0],\n",
              "       [0, 0],\n",
              "       [0, 0],\n",
              "       [0, 0]], dtype=int32)"
            ]
          },
          "metadata": {},
          "execution_count": 14
        }
      ]
    },
    {
      "cell_type": "code",
      "source": [
        "print(arr.shape)\n",
        "print(arr)"
      ],
      "metadata": {
        "colab": {
          "base_uri": "https://localhost:8080/"
        },
        "id": "nhBOciaRY3C6",
        "outputId": "53637d9a-62ba-468f-a942-738ce89fbedf"
      },
      "execution_count": 15,
      "outputs": [
        {
          "output_type": "stream",
          "name": "stdout",
          "text": [
            "(2, 6)\n",
            "[[ 4  5  6 10 11 12]\n",
            " [ 1  2  3  7  8  9]]\n"
          ]
        }
      ]
    },
    {
      "cell_type": "code",
      "source": [
        "print(arr.reshape(6,2))"
      ],
      "metadata": {
        "colab": {
          "base_uri": "https://localhost:8080/"
        },
        "id": "LM-wO6TbZKSi",
        "outputId": "a0d50d37-ac9c-4956-dc3d-814a6c320d96"
      },
      "execution_count": 16,
      "outputs": [
        {
          "output_type": "stream",
          "name": "stdout",
          "text": [
            "[[ 4  5]\n",
            " [ 6 10]\n",
            " [11 12]\n",
            " [ 1  2]\n",
            " [ 3  7]\n",
            " [ 8  9]]\n"
          ]
        }
      ]
    },
    {
      "cell_type": "code",
      "source": [
        "art1 = np.array([1,2,3,4])\n",
        "\n",
        "for i in art1:\n",
        "  print(i)"
      ],
      "metadata": {
        "colab": {
          "base_uri": "https://localhost:8080/"
        },
        "id": "uUn6rjTyZ31s",
        "outputId": "97cd39a9-2f59-4f4c-f86c-9c1789b8ae18"
      },
      "execution_count": 17,
      "outputs": [
        {
          "output_type": "stream",
          "name": "stdout",
          "text": [
            "1\n",
            "2\n",
            "3\n",
            "4\n"
          ]
        }
      ]
    },
    {
      "cell_type": "code",
      "source": [
        "arr5=np.array([[1,3,5,7],[2,4,6,8]])\n",
        "arr6=np.array([[1,4,7,10],[2,5,8,11]])\n",
        "arr=np.concatenate((arr5,arr6))\n",
        "arr"
      ],
      "metadata": {
        "colab": {
          "base_uri": "https://localhost:8080/"
        },
        "id": "9gBVXig2aUs5",
        "outputId": "a63e176f-7f96-46d8-a59f-2891cda654c4"
      },
      "execution_count": 18,
      "outputs": [
        {
          "output_type": "execute_result",
          "data": {
            "text/plain": [
              "array([[ 1,  3,  5,  7],\n",
              "       [ 2,  4,  6,  8],\n",
              "       [ 1,  4,  7, 10],\n",
              "       [ 2,  5,  8, 11]])"
            ]
          },
          "metadata": {},
          "execution_count": 18
        }
      ]
    },
    {
      "cell_type": "code",
      "source": [
        "ab=np.arange(7,15)\n",
        "ab"
      ],
      "metadata": {
        "colab": {
          "base_uri": "https://localhost:8080/"
        },
        "id": "3CTyazywa9cX",
        "outputId": "ab092a2b-098e-438f-c27f-87772c3aebac"
      },
      "execution_count": 19,
      "outputs": [
        {
          "output_type": "execute_result",
          "data": {
            "text/plain": [
              "array([ 7,  8,  9, 10, 11, 12, 13, 14])"
            ]
          },
          "metadata": {},
          "execution_count": 19
        }
      ]
    },
    {
      "cell_type": "code",
      "source": [
        "lspace = np.linspace(5,10,5)\n",
        "lspace"
      ],
      "metadata": {
        "colab": {
          "base_uri": "https://localhost:8080/"
        },
        "id": "5mOcyawubagG",
        "outputId": "8ddbbd4f-c608-48de-ad31-5ee595f7b4bb"
      },
      "execution_count": 20,
      "outputs": [
        {
          "output_type": "execute_result",
          "data": {
            "text/plain": [
              "array([ 5.  ,  6.25,  7.5 ,  8.75, 10.  ])"
            ]
          },
          "metadata": {},
          "execution_count": 20
        }
      ]
    },
    {
      "cell_type": "code",
      "source": [
        "print(arr.T)"
      ],
      "metadata": {
        "colab": {
          "base_uri": "https://localhost:8080/"
        },
        "id": "VkqC_n9Lb0XP",
        "outputId": "58e82b27-d95e-4ace-c463-630650f689a9"
      },
      "execution_count": 21,
      "outputs": [
        {
          "output_type": "stream",
          "name": "stdout",
          "text": [
            "[[ 1  2  1  2]\n",
            " [ 3  4  4  5]\n",
            " [ 5  6  7  8]\n",
            " [ 7  8 10 11]]\n"
          ]
        }
      ]
    },
    {
      "cell_type": "code",
      "source": [
        "#to calculate inverse use linalg.inv function\n",
        "ar=np.array([[2,4],[3,7]])\n",
        "print(np.linalg.inv(ar))\n"
      ],
      "metadata": {
        "colab": {
          "base_uri": "https://localhost:8080/"
        },
        "id": "LkOxyc1Whbzy",
        "outputId": "047125b7-51c2-4ffc-ffb5-77c297c49d4f"
      },
      "execution_count": 22,
      "outputs": [
        {
          "output_type": "stream",
          "name": "stdout",
          "text": [
            "[[ 3.5 -2. ]\n",
            " [-1.5  1. ]]\n"
          ]
        }
      ]
    },
    {
      "cell_type": "code",
      "source": [
        "print(ar.sum(axis=0))\n",
        "#in axis=0 it clculates sum rowwise\n",
        "print(ar.sum(axis=1))\n",
        "#in axis=1 it clculates sum colunwise"
      ],
      "metadata": {
        "colab": {
          "base_uri": "https://localhost:8080/"
        },
        "id": "90zaPRK3jELG",
        "outputId": "bceb3e0e-7b40-4cb0-cbaf-a3fb70dc9e3e"
      },
      "execution_count": 23,
      "outputs": [
        {
          "output_type": "stream",
          "name": "stdout",
          "text": [
            "[ 5 11]\n",
            "[ 6 10]\n"
          ]
        }
      ]
    },
    {
      "cell_type": "code",
      "source": [
        "#argmax shows maximum index position\n",
        "#max shows the maximum value\n",
        "ar.argmax()\n"
      ],
      "metadata": {
        "colab": {
          "base_uri": "https://localhost:8080/"
        },
        "id": "_1Mci4fojtoW",
        "outputId": "84c27a91-e4d4-48f9-82ad-cc8c386a7b48"
      },
      "execution_count": 24,
      "outputs": [
        {
          "output_type": "execute_result",
          "data": {
            "text/plain": [
              "3"
            ]
          },
          "metadata": {},
          "execution_count": 24
        }
      ]
    },
    {
      "cell_type": "code",
      "source": [
        "ar.max()"
      ],
      "metadata": {
        "colab": {
          "base_uri": "https://localhost:8080/"
        },
        "id": "U0T2Y4f48WET",
        "outputId": "68a8e2c0-99af-42f0-c49a-99f05d2e7307"
      },
      "execution_count": 25,
      "outputs": [
        {
          "output_type": "execute_result",
          "data": {
            "text/plain": [
              "7"
            ]
          },
          "metadata": {},
          "execution_count": 25
        }
      ]
    },
    {
      "cell_type": "code",
      "source": [
        "#argsort sorts element indexes in matrix and only sort sorts the elements\n",
        "ar.argsort()"
      ],
      "metadata": {
        "colab": {
          "base_uri": "https://localhost:8080/"
        },
        "id": "ruTXZ9-a8dwK",
        "outputId": "7bb78e54-8dec-4db7-b9e2-cec0da028cb5"
      },
      "execution_count": 26,
      "outputs": [
        {
          "output_type": "execute_result",
          "data": {
            "text/plain": [
              "array([[0, 1],\n",
              "       [0, 1]])"
            ]
          },
          "metadata": {},
          "execution_count": 26
        }
      ]
    },
    {
      "cell_type": "code",
      "source": [
        "arr0=np.array([32,12,8,37,81,9])\n",
        "print(np.sort(arr0))"
      ],
      "metadata": {
        "colab": {
          "base_uri": "https://localhost:8080/"
        },
        "id": "SHaDXR6E8rLe",
        "outputId": "469593b6-f4ed-426f-9c32-d7b5b8686f9f"
      },
      "execution_count": 29,
      "outputs": [
        {
          "output_type": "stream",
          "name": "stdout",
          "text": [
            "[ 8  9 12 32 37 81]\n"
          ]
        }
      ]
    },
    {
      "cell_type": "code",
      "source": [
        "#Search sort"
      ],
      "metadata": {
        "id": "Aifsp28k8p95"
      },
      "execution_count": 30,
      "outputs": []
    },
    {
      "cell_type": "code",
      "source": [
        "#filtering\n",
        "arr = np.array([11,12,13,14])\n",
        "x = [True,False,True,False]\n",
        "newarr = arr[x]\n",
        "newarr"
      ],
      "metadata": {
        "colab": {
          "base_uri": "https://localhost:8080/"
        },
        "id": "LwLdFiA49PfX",
        "outputId": "14887a70-d57f-458e-d4fb-57770234a4ff"
      },
      "execution_count": 31,
      "outputs": [
        {
          "output_type": "execute_result",
          "data": {
            "text/plain": [
              "array([11, 13])"
            ]
          },
          "metadata": {},
          "execution_count": 31
        }
      ]
    },
    {
      "cell_type": "code",
      "source": [
        "#COnditioned filtering\n",
        "filter_a = []\n",
        "arr = np.array([12,17,15,21,18,13])\n",
        "\n",
        "for element in arr:\n",
        "  if(element>17):\n",
        "    filter_a.append(True)\n",
        "  else:\n",
        "    filter_a.append(False)\n",
        "\n",
        "new_arr = arr[filter_a]\n",
        "new_arr"
      ],
      "metadata": {
        "colab": {
          "base_uri": "https://localhost:8080/"
        },
        "id": "Hc6UjIX69kHr",
        "outputId": "2b601780-e467-4f40-85c0-cbdb671ca372"
      },
      "execution_count": 33,
      "outputs": [
        {
          "output_type": "execute_result",
          "data": {
            "text/plain": [
              "array([21, 18])"
            ]
          },
          "metadata": {},
          "execution_count": 33
        }
      ]
    },
    {
      "cell_type": "code",
      "source": [
        "#Using where func\n",
        "marks = np.array([18,65,49,93,17,73,46,82])\n",
        "passed = ['pass','pass','pass','pass','pass','pass','pass','pass',]\n",
        "failed = ['fail','fail','fail','fail','fail','fail','fail','fail',]\n",
        "\n",
        "newarr = np.where((marks>30) & (marks<50),passed,failed)\n",
        "newarr"
      ],
      "metadata": {
        "colab": {
          "base_uri": "https://localhost:8080/"
        },
        "id": "i6SEN94--H6c",
        "outputId": "945763bc-2314-4bf0-97da-97b7009fa500"
      },
      "execution_count": 34,
      "outputs": [
        {
          "output_type": "execute_result",
          "data": {
            "text/plain": [
              "array(['fail', 'fail', 'pass', 'fail', 'fail', 'fail', 'pass', 'fail'],\n",
              "      dtype='<U4')"
            ]
          },
          "metadata": {},
          "execution_count": 34
        }
      ]
    }
  ]
}