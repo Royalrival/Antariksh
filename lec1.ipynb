{
  "nbformat": 4,
  "nbformat_minor": 0,
  "metadata": {
    "colab": {
      "provenance": [],
      "authorship_tag": "ABX9TyMW58LvTG52JIsVnKUu+/5G",
      "include_colab_link": true
    },
    "kernelspec": {
      "name": "python3",
      "display_name": "Python 3"
    },
    "language_info": {
      "name": "python"
    }
  },
  "cells": [
    {
      "cell_type": "markdown",
      "metadata": {
        "id": "view-in-github",
        "colab_type": "text"
      },
      "source": [
        "<a href=\"https://colab.research.google.com/github/Royalrival/Antariksh/blob/main/lec1.ipynb\" target=\"_parent\"><img src=\"https://colab.research.google.com/assets/colab-badge.svg\" alt=\"Open In Colab\"/></a>"
      ]
    },
    {
      "cell_type": "code",
      "execution_count": null,
      "metadata": {
        "colab": {
          "base_uri": "https://localhost:8080/"
        },
        "id": "IkO3lIqw13IB",
        "outputId": "346ddd84-45f5-462b-a6d1-b5ad83c8a8eb"
      },
      "outputs": [
        {
          "output_type": "stream",
          "name": "stdout",
          "text": [
            "15.0\n",
            "-2.0\n",
            "<class 'complex'>\n",
            "15.132745950421556\n"
          ]
        }
      ],
      "source": [
        "r=15-2j\n",
        "print(r.real)\n",
        "print(r.imag)\n",
        "print(type(r))\n",
        "b=abs(r)\n",
        "print(b)"
      ]
    },
    {
      "cell_type": "code",
      "source": [
        "list1 = [{'I': 'one'}, {'II': 'two'}, {'III': 'three'}]\n",
        "list1.append('IV')\n",
        "print(list1)\n",
        "list1.pop()\n",
        "#pops out last element\n",
        "print(list1[1]['II'])\n",
        "list1.insert(3,'3.5')\n",
        "#insert is used to inser element at an index\n",
        "print(list1)\n",
        "print(type(list1))\n",
        "list1.reverse()\n",
        "print(list1)\n",
        "tdict = dict([{'I', 'one'}, {'II', 'two'}, {'III', 'three'}])\n",
        "print(type(tdict))\n",
        "#dict keyword with bracket makes the list as dict\n",
        "tdict['IV']='Four'\n",
        "print(tdict)\n",
        "for key in tdict:\n",
        "  print(key, 'corresponds to',tdict[key])\n",
        "print(tdict.keys())\n",
        "print(tdict.values())"
      ],
      "metadata": {
        "colab": {
          "base_uri": "https://localhost:8080/"
        },
        "id": "ZhxNVHCW3VXU",
        "outputId": "67363f19-6a9b-4d1e-e2ee-4e8198721e51"
      },
      "execution_count": null,
      "outputs": [
        {
          "output_type": "stream",
          "name": "stdout",
          "text": [
            "[{'I': 'one'}, {'II': 'two'}, {'III': 'three'}, 'IV']\n",
            "two\n",
            "[{'I': 'one'}, {'II': 'two'}, {'III': 'three'}, '3.5']\n",
            "<class 'list'>\n",
            "['3.5', {'III': 'three'}, {'II': 'two'}, {'I': 'one'}]\n",
            "<class 'dict'>\n",
            "{'one': 'I', 'II': 'two', 'three': 'III', 'IV': 'Four'}\n",
            "one corresponds to I\n",
            "II corresponds to two\n",
            "three corresponds to III\n",
            "IV corresponds to Four\n",
            "dict_keys(['one', 'II', 'three', 'IV'])\n",
            "dict_values(['I', 'two', 'III', 'Four'])\n"
          ]
        }
      ]
    },
    {
      "cell_type": "code",
      "source": [
        "d2={'Kingdom':[{'Plantae':'Plants'},{'Animalia':'Animals'}],'Microbes':[{'Bacteria':'Lactobacillus'},{'Fungia':'Ringworm'}]}\n",
        "d2['Kingdom'][1]['Animalia']"
      ],
      "metadata": {
        "colab": {
          "base_uri": "https://localhost:8080/",
          "height": 35
        },
        "id": "mRGstZ8r4iDf",
        "outputId": "2bcd2062-0ab1-4ceb-90f0-66508db829be"
      },
      "execution_count": null,
      "outputs": [
        {
          "output_type": "execute_result",
          "data": {
            "text/plain": [
              "'Animals'"
            ],
            "application/vnd.google.colaboratory.intrinsic+json": {
              "type": "string"
            }
          },
          "metadata": {},
          "execution_count": 42
        }
      ]
    },
    {
      "cell_type": "code",
      "source": [
        "for key,value in d2.items():\n",
        "  print(key)\n",
        "  print(value)"
      ],
      "metadata": {
        "colab": {
          "base_uri": "https://localhost:8080/"
        },
        "id": "UD6XharWAJrm",
        "outputId": "7187b395-5a6b-442c-8f2b-02471f55624a"
      },
      "execution_count": null,
      "outputs": [
        {
          "output_type": "stream",
          "name": "stdout",
          "text": [
            "Kingdom\n",
            "[{'Plantae': 'Plants'}, {'Animalia': 'Animals'}]\n",
            "Microbes\n",
            "[{'Bacteria': 'Lactobacillus'}, {'Fungia': 'Ringworm'}]\n"
          ]
        }
      ]
    },
    {
      "cell_type": "code",
      "source": [
        "str=\"Hello World\"\n",
        "print(str.count('l'))\n",
        "print(str.upper())\n",
        "print(str.replace('World','world'))\n",
        "print(str.title())"
      ],
      "metadata": {
        "colab": {
          "base_uri": "https://localhost:8080/"
        },
        "id": "gBuiaz32AmX_",
        "outputId": "5fd9eedf-2cf9-4021-f38e-5cf403b9a1be"
      },
      "execution_count": null,
      "outputs": [
        {
          "output_type": "stream",
          "name": "stdout",
          "text": [
            "3\n",
            "HELLO WORLD\n",
            "Hello world\n",
            "Hello World\n"
          ]
        }
      ]
    }
  ]
}