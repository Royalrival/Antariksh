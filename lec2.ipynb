{
  "nbformat": 4,
  "nbformat_minor": 0,
  "metadata": {
    "colab": {
      "provenance": [],
      "authorship_tag": "ABX9TyNoEMdAFHQx/DE1RvAjmFvo",
      "include_colab_link": true
    },
    "kernelspec": {
      "name": "python3",
      "display_name": "Python 3"
    },
    "language_info": {
      "name": "python"
    }
  },
  "cells": [
    {
      "cell_type": "markdown",
      "metadata": {
        "id": "view-in-github",
        "colab_type": "text"
      },
      "source": [
        "<a href=\"https://colab.research.google.com/github/Royalrival/Antariksh/blob/main/lec2.ipynb\" target=\"_parent\"><img src=\"https://colab.research.google.com/assets/colab-badge.svg\" alt=\"Open In Colab\"/></a>"
      ]
    },
    {
      "cell_type": "code",
      "execution_count": 10,
      "metadata": {
        "colab": {
          "base_uri": "https://localhost:8080/"
        },
        "id": "ZINuikX-SW-g",
        "outputId": "514cc276-8c3a-48c7-dffd-f05f4a55c81f"
      },
      "outputs": [
        {
          "output_type": "stream",
          "name": "stdout",
          "text": [
            "Humans\n",
            "Animals\n",
            "Plants\n",
            "Microbes\n",
            "\n",
            "\n",
            "Humans\n",
            "Animals\n",
            "Plants\n",
            "Microbes\n"
          ]
        }
      ],
      "source": [
        "lo=['Humans','Animals','Plants','Microbes']\n",
        "#for loop\n",
        "for i in lo:\n",
        "  print(i)\n",
        "#alternatively\n",
        "print(\"\\n\")\n",
        "for i in range(len(lo)):\n",
        "  print(lo[i])\n"
      ]
    },
    {
      "cell_type": "code",
      "source": [
        "for i in 'ABCDE':\n",
        "  #traversing through string\n",
        "  print(i)"
      ],
      "metadata": {
        "colab": {
          "base_uri": "https://localhost:8080/"
        },
        "id": "2eq9xd7BTzyw",
        "outputId": "8f2c7688-fea1-4251-d87f-d37bd82a538e"
      },
      "execution_count": 12,
      "outputs": [
        {
          "output_type": "stream",
          "name": "stdout",
          "text": [
            "A\n",
            "B\n",
            "C\n",
            "D\n",
            "E\n"
          ]
        }
      ]
    },
    {
      "cell_type": "code",
      "source": [
        "for i in range(0,10,2):\n",
        "  #implementation of step\n",
        "  print(i)"
      ],
      "metadata": {
        "colab": {
          "base_uri": "https://localhost:8080/"
        },
        "id": "CtqDUHFxUCAj",
        "outputId": "1b659a91-327e-41ab-87a9-85d285c6ec3a"
      },
      "execution_count": 19,
      "outputs": [
        {
          "output_type": "stream",
          "name": "stdout",
          "text": [
            "0\n",
            "2\n",
            "4\n",
            "6\n",
            "8\n"
          ]
        }
      ]
    },
    {
      "cell_type": "code",
      "source": [
        "n=15\n",
        "sum=0\n",
        "while n!=0 :\n",
        "  d=n%10\n",
        "  sum=sum+d\n",
        "  n=n/10\n",
        "print(sum)"
      ],
      "metadata": {
        "colab": {
          "base_uri": "https://localhost:8080/"
        },
        "id": "G8UuQejRU1La",
        "outputId": "3e4874d3-36a0-4c7a-8125-3789b1b3342d"
      },
      "execution_count": 28,
      "outputs": [
        {
          "output_type": "stream",
          "name": "stdout",
          "text": [
            "6.666666666666667\n"
          ]
        }
      ]
    },
    {
      "cell_type": "code",
      "source": [
        "for i in range(10):\n",
        "  if(i==3):\n",
        "    continue\n",
        "  elif(i==9):\n",
        "    break\n",
        "  print(i)"
      ],
      "metadata": {
        "colab": {
          "base_uri": "https://localhost:8080/"
        },
        "id": "GAMbX19uV8dn",
        "outputId": "dea265c9-e49a-4b5c-be7f-25653bf0b40d"
      },
      "execution_count": 33,
      "outputs": [
        {
          "output_type": "stream",
          "name": "stdout",
          "text": [
            "0\n",
            "1\n",
            "2\n",
            "4\n",
            "5\n",
            "6\n",
            "7\n",
            "8\n"
          ]
        }
      ]
    },
    {
      "cell_type": "code",
      "source": [
        "def average(a,b,c):\n",
        "  return a+b+c\n",
        "res = average(3,7,9)\n",
        "print(res)"
      ],
      "metadata": {
        "colab": {
          "base_uri": "https://localhost:8080/"
        },
        "id": "FhIz3thYWyV7",
        "outputId": "4cc33ca7-abae-4af9-e171-16671f838c6b"
      },
      "execution_count": 36,
      "outputs": [
        {
          "output_type": "stream",
          "name": "stdout",
          "text": [
            "19\n"
          ]
        }
      ]
    },
    {
      "cell_type": "code",
      "source": [
        "for i in range(1,5):\n",
        "  for j in range(1,i+1):\n",
        "    print(j,end=\"\")\n",
        "  print(\"\\n\")"
      ],
      "metadata": {
        "colab": {
          "base_uri": "https://localhost:8080/"
        },
        "id": "NLHSRo6VXQlN",
        "outputId": "3c15ebcb-47fd-4d68-8f35-b38b8ecab399"
      },
      "execution_count": 44,
      "outputs": [
        {
          "output_type": "stream",
          "name": "stdout",
          "text": [
            "1\n",
            "\n",
            "12\n",
            "\n",
            "123\n",
            "\n",
            "1234\n",
            "\n"
          ]
        }
      ]
    },
    {
      "cell_type": "code",
      "source": [
        "def f(x,y):\n",
        "  x=y+3\n",
        "  y=x-6\n",
        "  print(x,\"\\t\",y)\n",
        "\n",
        "f(5,7)"
      ],
      "metadata": {
        "colab": {
          "base_uri": "https://localhost:8080/"
        },
        "id": "3NsECiNtYCDq",
        "outputId": "f3c354fb-e458-4758-cd5d-f3e9e101814a"
      },
      "execution_count": 47,
      "outputs": [
        {
          "output_type": "stream",
          "name": "stdout",
          "text": [
            "10 \t 4\n"
          ]
        }
      ]
    },
    {
      "cell_type": "code",
      "source": [
        "def k(x,y):\n",
        "  for i in range(0,y,2):\n",
        "    print(x)\n",
        "\n",
        "k(y=8,x='alpha')\n",
        "\n",
        "def l(x):\n",
        "  while (x>0):\n",
        "    if(x>10):\n",
        "      x=x-3\n",
        "    else:\n",
        "      x=x-2\n",
        "    print(x)\n",
        "\n",
        "l(x=25)"
      ],
      "metadata": {
        "colab": {
          "base_uri": "https://localhost:8080/"
        },
        "id": "ANeDNp8_dJ-N",
        "outputId": "21830072-3f64-4047-fbad-fb795748921e"
      },
      "execution_count": 84,
      "outputs": [
        {
          "output_type": "stream",
          "name": "stdout",
          "text": [
            "alpha\n",
            "alpha\n",
            "alpha\n",
            "alpha\n",
            "22\n",
            "19\n",
            "16\n",
            "13\n",
            "10\n",
            "8\n",
            "6\n",
            "4\n",
            "2\n",
            "0\n"
          ]
        }
      ]
    },
    {
      "cell_type": "code",
      "source": [
        "def l1(*args):\n",
        "  for i in args:\n",
        "    print(i)\n",
        "#passing list as parameters in function\n",
        "#*args is used for accepting list\n",
        "l1('A','B','C',45,13,54)"
      ],
      "metadata": {
        "colab": {
          "base_uri": "https://localhost:8080/"
        },
        "id": "f5jrS4s0ffqf",
        "outputId": "6b17c6e5-ef40-4a34-c1e7-8b14a1bf71ed"
      },
      "execution_count": 66,
      "outputs": [
        {
          "output_type": "stream",
          "name": "stdout",
          "text": [
            "A\n",
            "B\n",
            "C\n",
            "45\n",
            "13\n",
            "54\n"
          ]
        }
      ]
    },
    {
      "cell_type": "code",
      "source": [
        "def d1(**kwargs):\n",
        "  for key,value in kwargs.items():\n",
        "    print(\"key:\",key,\", value:\",value)\n",
        "d1(Asia=1,America=2,Europe=3,Antartica=4,Africa=5,Australia=6)"
      ],
      "metadata": {
        "colab": {
          "base_uri": "https://localhost:8080/"
        },
        "id": "fn49YTt4f2_C",
        "outputId": "aa0da6ff-9223-4b93-95aa-367a49bc624c"
      },
      "execution_count": 71,
      "outputs": [
        {
          "output_type": "stream",
          "name": "stdout",
          "text": [
            "key: Asia , value: 1\n",
            "key: America , value: 2\n",
            "key: Europe , value: 3\n",
            "key: Antartica , value: 4\n",
            "key: Africa , value: 5\n",
            "key: Australia , value: 6\n"
          ]
        }
      ]
    },
    {
      "cell_type": "code",
      "source": [
        "def f1(n):\n",
        "  return lambda a : a ** n\n",
        "\n",
        "cubecalc = f1(3)\n",
        "#the lambda function property is used by other function hence cube function is formed\n",
        "print(cubecalc(11))"
      ],
      "metadata": {
        "colab": {
          "base_uri": "https://localhost:8080/"
        },
        "id": "0Fn2nIUzh5ad",
        "outputId": "a5ab7314-f322-457c-b012-17e26bab1f2f"
      },
      "execution_count": 76,
      "outputs": [
        {
          "output_type": "stream",
          "name": "stdout",
          "text": [
            "1331\n"
          ]
        }
      ]
    },
    {
      "cell_type": "code",
      "source": [
        "def a(arg,*args):\n",
        "  for i in args:\n",
        "    print(i)\n",
        "    print(arg)\n",
        "\n",
        "a('O','A+','A','B+','B','C+','C')"
      ],
      "metadata": {
        "colab": {
          "base_uri": "https://localhost:8080/"
        },
        "id": "7nEpBzftis3E",
        "outputId": "fbd3329d-7c6d-4117-b1dc-424046455a90"
      },
      "execution_count": 91,
      "outputs": [
        {
          "output_type": "stream",
          "name": "stdout",
          "text": [
            "A+\n",
            "O\n",
            "A\n",
            "O\n",
            "B+\n",
            "O\n",
            "B\n",
            "O\n",
            "C+\n",
            "O\n",
            "C\n",
            "O\n"
          ]
        }
      ]
    }
  ]
}